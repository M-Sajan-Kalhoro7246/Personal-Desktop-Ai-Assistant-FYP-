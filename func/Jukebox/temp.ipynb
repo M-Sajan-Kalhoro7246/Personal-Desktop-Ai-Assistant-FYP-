{
 "cells": [
  {
   "cell_type": "code",
   "execution_count": 51,
   "metadata": {},
   "outputs": [],
   "source": [
    "#pip install selenium\n",
    "from selenium import webdriver\n",
    "from selenium.webdriver.common.by import By\n",
    "from selenium.webdriver.support.ui import Select\n",
    "from webdriver_manager.chrome import ChromeDriverManager\n",
    "from selenium.webdriver.chrome.service import Service\n",
    "from time import sleep\n",
    "from selenium.webdriver.common.keys import Keys\n",
    "\n",
    "chrome_options = webdriver.ChromeOptions()\n",
    "# chrome_options.add_argument('--headless=new')\n",
    "# chrome_options.headless = True\n",
    "driver = webdriver.Chrome(service=Service(ChromeDriverManager().install()),options=chrome_options)\n",
    "website = \"https://www.youtube.com/results?search_query=\"+\"ncs\"\n"
   ]
  },
  {
   "cell_type": "code",
   "execution_count": 42,
   "metadata": {},
   "outputs": [],
   "source": [
    "#to play first video\n",
    "driver.find_elements(By.ID,\"dismissible\")[1].click()"
   ]
  },
  {
   "cell_type": "code",
   "execution_count": 35,
   "metadata": {},
   "outputs": [],
   "source": [
    "from selenium.webdriver.common.keys import Keys\n",
    "\n",
    "video = driver.find_element(By.CLASS_NAME,\"html5-video-player\")\n",
    "video.send_keys(Keys.UP)"
   ]
  },
  {
   "cell_type": "code",
   "execution_count": 58,
   "metadata": {},
   "outputs": [],
   "source": [
    "import requests\n",
    "\n",
    "class MusicPlayer:\n",
    "    global driver\n",
    "    def __init__(self,VidName:str) -> None:\n",
    "        self.Volume=100\n",
    "\n",
    "        self.VidName=VidName\n",
    "\n",
    "        self.url=self.GetVidUrl()\n",
    "\n",
    "        driver.get(self.url)\n",
    "    \n",
    "    def GetVidUrl(self):\n",
    "        cont = requests.get(\"https://www.youtube.com/results?search_query=\"+self.VidName.replace(\" \",\"+\"))\n",
    "        count = 0\n",
    "        data = cont.content\n",
    "        data = str(data)\n",
    "        lst = data.split('\"')\n",
    "        for i in lst:\n",
    "            count += 1\n",
    "            if i == \"WEB_PAGE_TYPE_WATCH\":\n",
    "                break\n",
    "        return f\"https://www.youtube.com{lst[count - 5]}\"\n",
    "    \n",
    "    def Vol(self,VolInt:int):\n",
    "        if VolInt > 100 or VolInt < 0:\n",
    "            return \"MOYE MOYE\"\n",
    "        #50 , 100 -5\n",
    "        #50 = 100 - (x * 5)\n",
    "        if VolInt>self.Volume:\n",
    "            #VolInt = volume + (x*5)\n",
    "            #(VolInt-Volume)/5=x\n",
    "            steps=(VolInt-self.Volume)//5\n",
    "            self.Volume=VolInt\n",
    "            video = driver.find_element(By.CLASS_NAME,\"html5-video-player\")\n",
    "            for _ in range(steps):\n",
    "                sleep(0.1)\n",
    "                video.send_keys(Keys.UP)\n",
    "        else:\n",
    "            #VolInt = volume + (x*5)\n",
    "            #(VolInt-Volume)/5=x\n",
    "            steps=(VolInt-self.Volume)//-5\n",
    "            self.Volume=VolInt\n",
    "            video = driver.find_element(By.CLASS_NAME,\"html5-video-player\")\n",
    "            for _ in range(steps):\n",
    "                sleep(0.1)\n",
    "                video.send_keys(Keys.DOWN)\n",
    "\n",
    "    def PauseOrPlay(self):\n",
    "        driver.find_element(By.CLASS_NAME,\"html5-video-player\").click()\n",
    "\n",
    "    def Next(self):\n",
    "        x=driver.find_element(By.CLASS_NAME,\"html5-video-player\")\n",
    "        x.send_keys(Keys.SHIFT, 'n') \n",
    "ncs=MusicPlayer(\"ncs\")"
   ]
  },
  {
   "cell_type": "code",
   "execution_count": 62,
   "metadata": {},
   "outputs": [],
   "source": [
    "ncs.Vol(20)"
   ]
  }
 ],
 "metadata": {
  "kernelspec": {
   "display_name": "Python 3",
   "language": "python",
   "name": "python3"
  },
  "language_info": {
   "codemirror_mode": {
    "name": "ipython",
    "version": 3
   },
   "file_extension": ".py",
   "mimetype": "text/x-python",
   "name": "python",
   "nbconvert_exporter": "python",
   "pygments_lexer": "ipython3",
   "version": "3.10.10"
  }
 },
 "nbformat": 4,
 "nbformat_minor": 2
}
